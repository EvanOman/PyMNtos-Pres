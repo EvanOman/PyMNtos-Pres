{
 "cells": [
  {
   "cell_type": "code",
   "execution_count": 46,
   "metadata": {
    "collapsed": false,
    "slideshow": {
     "slide_type": "skip"
    }
   },
   "outputs": [],
   "source": [
    "%matplotlib notebook\n",
    "%run escapeImages.py\n",
    "favColorMap = \"spectral\""
   ]
  },
  {
   "cell_type": "markdown",
   "metadata": {
    "slideshow": {
     "slide_type": "slide"
    }
   },
   "source": [
    "<h1><center>Pretty Pictures with Numpy</center></h1>\n",
    "<center>Making Fractals for Dynamical Systems Research using Numpy and Matplotlib</center>\n",
    "\n",
    "<center> </center>\n",
    "<center> </center>\n",
    "<center> </center>\n",
    "<center><b>Evan Oman</b></center>\n",
    "<center>www.evanoman.com</center>"
   ]
  },
  {
   "cell_type": "markdown",
   "metadata": {
    "slideshow": {
     "slide_type": "slide"
    }
   },
   "source": [
    "<h2><center>About Me</center></h2>\n",
    "- Masters Degree in \"Applied and Computational Mathematics\" from UMD"
   ]
  },
  {
   "cell_type": "markdown",
   "metadata": {
    "slideshow": {
     "slide_type": "fragment"
    }
   },
   "source": [
    "- Currently a Systems/Algorithm Engineer at Black River Systems\n",
    "    - Work on small research grants for Intelligence, Surveillance + Reconnaisance defense contracts\n",
    "    - Mix of reading CS/Math papers and implementing prototypes"
   ]
  },
  {
   "cell_type": "markdown",
   "metadata": {
    "slideshow": {
     "slide_type": "fragment"
    }
   },
   "source": [
    "- Also part time Data Science consultant for financial data consulting company\n",
    "    - Work with Apache Spark (in Scala), also making a Slackbot"
   ]
  },
  {
   "cell_type": "markdown",
   "metadata": {
    "slideshow": {
     "slide_type": "slide"
    }
   },
   "source": [
    "<h1><center>Dynamical Systems</center></h1>\n",
    "- Dynamical Systems is the study of the behavior of repeated maps of the form <center>$z_n \\mapsto z_{n+1} = f_{\\alpha_1,\\ldots, \\alpha_n}(z_n)$</center> where $f_{\\alpha_1,\\ldots, \\alpha_n} : S \\rightarrow S$"
   ]
  },
  {
   "cell_type": "markdown",
   "metadata": {
    "slideshow": {
     "slide_type": "fragment"
    }
   },
   "source": [
    "- The ultimate goal would be a characterization of the \"long term\" behavior of every point $x \\in S$ as the parameters $\\alpha_i$ vary"
   ]
  },
  {
   "cell_type": "markdown",
   "metadata": {
    "slideshow": {
     "slide_type": "fragment"
    }
   },
   "source": [
    "- My graduate research was focused on the family <center>$z_n \\mapsto f_{c,\\beta} (z_n) = z_n^2 + c + \\frac{\\beta}{\\overline{z_n}^2} = z_{n+1}$</center>\n",
    "where $f_{c,\\beta} : \\mathbb{C} \\rightarrow \\mathbb{C}$"
   ]
  },
  {
   "cell_type": "markdown",
   "metadata": {
    "slideshow": {
     "slide_type": "fragment"
    }
   },
   "source": [
    "- This family is interesting because it is non-holomorphic blah, blah, blah..."
   ]
  },
  {
   "cell_type": "markdown",
   "metadata": {
    "slideshow": {
     "slide_type": "slide"
    }
   },
   "source": [
    "<h1><center>Types of Orbits</center></h1>\n",
    "- An orbit of a some point $x$ under some map $f$ is the set of points <center>$\\operatorname{Orb}(x,f) = \\{x, f(x), f(f(x)) = f^2(x), \\ldots\\}$</center>"
   ]
  },
  {
   "cell_type": "markdown",
   "metadata": {
    "slideshow": {
     "slide_type": "fragment"
    }
   },
   "source": [
    "- Orbits can be unbounded: $\\forall K \\in \\mathbb{R}, \\exists n \\in \\mathbb{N}$ such that $|f^n(x)| > K$ \n",
    "    - e.g. 2 under $f(x) = x^2$"
   ]
  },
  {
   "cell_type": "markdown",
   "metadata": {
    "slideshow": {
     "slide_type": "fragment"
    }
   },
   "source": [
    "- Orbits can be bounded ($\\exists B$ such that $|f^n(x)| < B$, $\\forall n \\in \\mathbb{N}$)\n",
    "    - Fixed: 0 under $f(x) = x^2$ : $\\{0, 0, \\ldots\\}$\n",
    "    - Periodic: -1 under $f(x) = x^2 - 1$ : $\\{-1, 0, -1, 0, \\ldots\\}$\n",
    "    - Attracting: 1 under $f(x) = \\frac{x}{2}$ : $\\{1, \\frac{1}{2}, \\frac{1}{4}, \\frac{1}{8}, \\ldots\\}$\n",
    "    - Other: pre-periodic, pre-fixed, CHAOTIC"
   ]
  },
  {
   "cell_type": "markdown",
   "metadata": {
    "slideshow": {
     "slide_type": "slide"
    }
   },
   "source": [
    "<h1><center>Escape Images</center></h1>\n",
    "- So given some map, we want to be able to get an idea of what the long term behavior is for each of its points as parameters change"
   ]
  },
  {
   "cell_type": "markdown",
   "metadata": {
    "slideshow": {
     "slide_type": "fragment"
    }
   },
   "source": [
    "- One way to do this is to create an \"escape image\" which takes each point on the 2D plane as an initial condition (represented by a pixel) and records how long it took for the map, under that initial condition, to escape"
   ]
  },
  {
   "cell_type": "markdown",
   "metadata": {
    "slideshow": {
     "slide_type": "subslide"
    }
   },
   "source": [
    "- Here is an escape image you might have seen before:"
   ]
  },
  {
   "cell_type": "code",
   "execution_count": 53,
   "metadata": {
    "collapsed": false,
    "slideshow": {
     "slide_type": "fragment"
    }
   },
   "outputs": [
    {
     "data": {
      "application/javascript": [
       "/* Put everything inside the global mpl namespace */\n",
       "window.mpl = {};\n",
       "\n",
       "mpl.get_websocket_type = function() {\n",
       "    if (typeof(WebSocket) !== 'undefined') {\n",
       "        return WebSocket;\n",
       "    } else if (typeof(MozWebSocket) !== 'undefined') {\n",
       "        return MozWebSocket;\n",
       "    } else {\n",
       "        alert('Your browser does not have WebSocket support.' +\n",
       "              'Please try Chrome, Safari or Firefox ≥ 6. ' +\n",
       "              'Firefox 4 and 5 are also supported but you ' +\n",
       "              'have to enable WebSockets in about:config.');\n",
       "    };\n",
       "}\n",
       "\n",
       "mpl.figure = function(figure_id, websocket, ondownload, parent_element) {\n",
       "    this.id = figure_id;\n",
       "\n",
       "    this.ws = websocket;\n",
       "\n",
       "    this.supports_binary = (this.ws.binaryType != undefined);\n",
       "\n",
       "    if (!this.supports_binary) {\n",
       "        var warnings = document.getElementById(\"mpl-warnings\");\n",
       "        if (warnings) {\n",
       "            warnings.style.display = 'block';\n",
       "            warnings.textContent = (\n",
       "                \"This browser does not support binary websocket messages. \" +\n",
       "                    \"Performance may be slow.\");\n",
       "        }\n",
       "    }\n",
       "\n",
       "    this.imageObj = new Image();\n",
       "\n",
       "    this.context = undefined;\n",
       "    this.message = undefined;\n",
       "    this.canvas = undefined;\n",
       "    this.rubberband_canvas = undefined;\n",
       "    this.rubberband_context = undefined;\n",
       "    this.format_dropdown = undefined;\n",
       "\n",
       "    this.image_mode = 'full';\n",
       "\n",
       "    this.root = $('<div/>');\n",
       "    this._root_extra_style(this.root)\n",
       "    this.root.attr('style', 'display: inline-block');\n",
       "\n",
       "    $(parent_element).append(this.root);\n",
       "\n",
       "    this._init_header(this);\n",
       "    this._init_canvas(this);\n",
       "    this._init_toolbar(this);\n",
       "\n",
       "    var fig = this;\n",
       "\n",
       "    this.waiting = false;\n",
       "\n",
       "    this.ws.onopen =  function () {\n",
       "            fig.send_message(\"supports_binary\", {value: fig.supports_binary});\n",
       "            fig.send_message(\"send_image_mode\", {});\n",
       "            fig.send_message(\"refresh\", {});\n",
       "        }\n",
       "\n",
       "    this.imageObj.onload = function() {\n",
       "            if (fig.image_mode == 'full') {\n",
       "                // Full images could contain transparency (where diff images\n",
       "                // almost always do), so we need to clear the canvas so that\n",
       "                // there is no ghosting.\n",
       "                fig.context.clearRect(0, 0, fig.canvas.width, fig.canvas.height);\n",
       "            }\n",
       "            fig.context.drawImage(fig.imageObj, 0, 0);\n",
       "        };\n",
       "\n",
       "    this.imageObj.onunload = function() {\n",
       "        this.ws.close();\n",
       "    }\n",
       "\n",
       "    this.ws.onmessage = this._make_on_message_function(this);\n",
       "\n",
       "    this.ondownload = ondownload;\n",
       "}\n",
       "\n",
       "mpl.figure.prototype._init_header = function() {\n",
       "    var titlebar = $(\n",
       "        '<div class=\"ui-dialog-titlebar ui-widget-header ui-corner-all ' +\n",
       "        'ui-helper-clearfix\"/>');\n",
       "    var titletext = $(\n",
       "        '<div class=\"ui-dialog-title\" style=\"width: 100%; ' +\n",
       "        'text-align: center; padding: 3px;\"/>');\n",
       "    titlebar.append(titletext)\n",
       "    this.root.append(titlebar);\n",
       "    this.header = titletext[0];\n",
       "}\n",
       "\n",
       "\n",
       "\n",
       "mpl.figure.prototype._canvas_extra_style = function(canvas_div) {\n",
       "\n",
       "}\n",
       "\n",
       "\n",
       "mpl.figure.prototype._root_extra_style = function(canvas_div) {\n",
       "\n",
       "}\n",
       "\n",
       "mpl.figure.prototype._init_canvas = function() {\n",
       "    var fig = this;\n",
       "\n",
       "    var canvas_div = $('<div/>');\n",
       "\n",
       "    canvas_div.attr('style', 'position: relative; clear: both; outline: 0');\n",
       "\n",
       "    function canvas_keyboard_event(event) {\n",
       "        return fig.key_event(event, event['data']);\n",
       "    }\n",
       "\n",
       "    canvas_div.keydown('key_press', canvas_keyboard_event);\n",
       "    canvas_div.keyup('key_release', canvas_keyboard_event);\n",
       "    this.canvas_div = canvas_div\n",
       "    this._canvas_extra_style(canvas_div)\n",
       "    this.root.append(canvas_div);\n",
       "\n",
       "    var canvas = $('<canvas/>');\n",
       "    canvas.addClass('mpl-canvas');\n",
       "    canvas.attr('style', \"left: 0; top: 0; z-index: 0; outline: 0\")\n",
       "\n",
       "    this.canvas = canvas[0];\n",
       "    this.context = canvas[0].getContext(\"2d\");\n",
       "\n",
       "    var rubberband = $('<canvas/>');\n",
       "    rubberband.attr('style', \"position: absolute; left: 0; top: 0; z-index: 1;\")\n",
       "\n",
       "    var pass_mouse_events = true;\n",
       "\n",
       "    canvas_div.resizable({\n",
       "        start: function(event, ui) {\n",
       "            pass_mouse_events = false;\n",
       "        },\n",
       "        resize: function(event, ui) {\n",
       "            fig.request_resize(ui.size.width, ui.size.height);\n",
       "        },\n",
       "        stop: function(event, ui) {\n",
       "            pass_mouse_events = true;\n",
       "            fig.request_resize(ui.size.width, ui.size.height);\n",
       "        },\n",
       "    });\n",
       "\n",
       "    function mouse_event_fn(event) {\n",
       "        if (pass_mouse_events)\n",
       "            return fig.mouse_event(event, event['data']);\n",
       "    }\n",
       "\n",
       "    rubberband.mousedown('button_press', mouse_event_fn);\n",
       "    rubberband.mouseup('button_release', mouse_event_fn);\n",
       "    // Throttle sequential mouse events to 1 every 20ms.\n",
       "    rubberband.mousemove('motion_notify', mouse_event_fn);\n",
       "\n",
       "    rubberband.mouseenter('figure_enter', mouse_event_fn);\n",
       "    rubberband.mouseleave('figure_leave', mouse_event_fn);\n",
       "\n",
       "    canvas_div.on(\"wheel\", function (event) {\n",
       "        event = event.originalEvent;\n",
       "        event['data'] = 'scroll'\n",
       "        if (event.deltaY < 0) {\n",
       "            event.step = 1;\n",
       "        } else {\n",
       "            event.step = -1;\n",
       "        }\n",
       "        mouse_event_fn(event);\n",
       "    });\n",
       "\n",
       "    canvas_div.append(canvas);\n",
       "    canvas_div.append(rubberband);\n",
       "\n",
       "    this.rubberband = rubberband;\n",
       "    this.rubberband_canvas = rubberband[0];\n",
       "    this.rubberband_context = rubberband[0].getContext(\"2d\");\n",
       "    this.rubberband_context.strokeStyle = \"#000000\";\n",
       "\n",
       "    this._resize_canvas = function(width, height) {\n",
       "        // Keep the size of the canvas, canvas container, and rubber band\n",
       "        // canvas in synch.\n",
       "        canvas_div.css('width', width)\n",
       "        canvas_div.css('height', height)\n",
       "\n",
       "        canvas.attr('width', width);\n",
       "        canvas.attr('height', height);\n",
       "\n",
       "        rubberband.attr('width', width);\n",
       "        rubberband.attr('height', height);\n",
       "    }\n",
       "\n",
       "    // Set the figure to an initial 600x600px, this will subsequently be updated\n",
       "    // upon first draw.\n",
       "    this._resize_canvas(600, 600);\n",
       "\n",
       "    // Disable right mouse context menu.\n",
       "    $(this.rubberband_canvas).bind(\"contextmenu\",function(e){\n",
       "        return false;\n",
       "    });\n",
       "\n",
       "    function set_focus () {\n",
       "        canvas.focus();\n",
       "        canvas_div.focus();\n",
       "    }\n",
       "\n",
       "    window.setTimeout(set_focus, 100);\n",
       "}\n",
       "\n",
       "mpl.figure.prototype._init_toolbar = function() {\n",
       "    var fig = this;\n",
       "\n",
       "    var nav_element = $('<div/>')\n",
       "    nav_element.attr('style', 'width: 100%');\n",
       "    this.root.append(nav_element);\n",
       "\n",
       "    // Define a callback function for later on.\n",
       "    function toolbar_event(event) {\n",
       "        return fig.toolbar_button_onclick(event['data']);\n",
       "    }\n",
       "    function toolbar_mouse_event(event) {\n",
       "        return fig.toolbar_button_onmouseover(event['data']);\n",
       "    }\n",
       "\n",
       "    for(var toolbar_ind in mpl.toolbar_items) {\n",
       "        var name = mpl.toolbar_items[toolbar_ind][0];\n",
       "        var tooltip = mpl.toolbar_items[toolbar_ind][1];\n",
       "        var image = mpl.toolbar_items[toolbar_ind][2];\n",
       "        var method_name = mpl.toolbar_items[toolbar_ind][3];\n",
       "\n",
       "        if (!name) {\n",
       "            // put a spacer in here.\n",
       "            continue;\n",
       "        }\n",
       "        var button = $('<button/>');\n",
       "        button.addClass('ui-button ui-widget ui-state-default ui-corner-all ' +\n",
       "                        'ui-button-icon-only');\n",
       "        button.attr('role', 'button');\n",
       "        button.attr('aria-disabled', 'false');\n",
       "        button.click(method_name, toolbar_event);\n",
       "        button.mouseover(tooltip, toolbar_mouse_event);\n",
       "\n",
       "        var icon_img = $('<span/>');\n",
       "        icon_img.addClass('ui-button-icon-primary ui-icon');\n",
       "        icon_img.addClass(image);\n",
       "        icon_img.addClass('ui-corner-all');\n",
       "\n",
       "        var tooltip_span = $('<span/>');\n",
       "        tooltip_span.addClass('ui-button-text');\n",
       "        tooltip_span.html(tooltip);\n",
       "\n",
       "        button.append(icon_img);\n",
       "        button.append(tooltip_span);\n",
       "\n",
       "        nav_element.append(button);\n",
       "    }\n",
       "\n",
       "    var fmt_picker_span = $('<span/>');\n",
       "\n",
       "    var fmt_picker = $('<select/>');\n",
       "    fmt_picker.addClass('mpl-toolbar-option ui-widget ui-widget-content');\n",
       "    fmt_picker_span.append(fmt_picker);\n",
       "    nav_element.append(fmt_picker_span);\n",
       "    this.format_dropdown = fmt_picker[0];\n",
       "\n",
       "    for (var ind in mpl.extensions) {\n",
       "        var fmt = mpl.extensions[ind];\n",
       "        var option = $(\n",
       "            '<option/>', {selected: fmt === mpl.default_extension}).html(fmt);\n",
       "        fmt_picker.append(option)\n",
       "    }\n",
       "\n",
       "    // Add hover states to the ui-buttons\n",
       "    $( \".ui-button\" ).hover(\n",
       "        function() { $(this).addClass(\"ui-state-hover\");},\n",
       "        function() { $(this).removeClass(\"ui-state-hover\");}\n",
       "    );\n",
       "\n",
       "    var status_bar = $('<span class=\"mpl-message\"/>');\n",
       "    nav_element.append(status_bar);\n",
       "    this.message = status_bar[0];\n",
       "}\n",
       "\n",
       "mpl.figure.prototype.request_resize = function(x_pixels, y_pixels) {\n",
       "    // Request matplotlib to resize the figure. Matplotlib will then trigger a resize in the client,\n",
       "    // which will in turn request a refresh of the image.\n",
       "    this.send_message('resize', {'width': x_pixels, 'height': y_pixels});\n",
       "}\n",
       "\n",
       "mpl.figure.prototype.send_message = function(type, properties) {\n",
       "    properties['type'] = type;\n",
       "    properties['figure_id'] = this.id;\n",
       "    this.ws.send(JSON.stringify(properties));\n",
       "}\n",
       "\n",
       "mpl.figure.prototype.send_draw_message = function() {\n",
       "    if (!this.waiting) {\n",
       "        this.waiting = true;\n",
       "        this.ws.send(JSON.stringify({type: \"draw\", figure_id: this.id}));\n",
       "    }\n",
       "}\n",
       "\n",
       "\n",
       "mpl.figure.prototype.handle_save = function(fig, msg) {\n",
       "    var format_dropdown = fig.format_dropdown;\n",
       "    var format = format_dropdown.options[format_dropdown.selectedIndex].value;\n",
       "    fig.ondownload(fig, format);\n",
       "}\n",
       "\n",
       "\n",
       "mpl.figure.prototype.handle_resize = function(fig, msg) {\n",
       "    var size = msg['size'];\n",
       "    if (size[0] != fig.canvas.width || size[1] != fig.canvas.height) {\n",
       "        fig._resize_canvas(size[0], size[1]);\n",
       "        fig.send_message(\"refresh\", {});\n",
       "    };\n",
       "}\n",
       "\n",
       "mpl.figure.prototype.handle_rubberband = function(fig, msg) {\n",
       "    var x0 = msg['x0'];\n",
       "    var y0 = fig.canvas.height - msg['y0'];\n",
       "    var x1 = msg['x1'];\n",
       "    var y1 = fig.canvas.height - msg['y1'];\n",
       "    x0 = Math.floor(x0) + 0.5;\n",
       "    y0 = Math.floor(y0) + 0.5;\n",
       "    x1 = Math.floor(x1) + 0.5;\n",
       "    y1 = Math.floor(y1) + 0.5;\n",
       "    var min_x = Math.min(x0, x1);\n",
       "    var min_y = Math.min(y0, y1);\n",
       "    var width = Math.abs(x1 - x0);\n",
       "    var height = Math.abs(y1 - y0);\n",
       "\n",
       "    fig.rubberband_context.clearRect(\n",
       "        0, 0, fig.canvas.width, fig.canvas.height);\n",
       "\n",
       "    fig.rubberband_context.strokeRect(min_x, min_y, width, height);\n",
       "}\n",
       "\n",
       "mpl.figure.prototype.handle_figure_label = function(fig, msg) {\n",
       "    // Updates the figure title.\n",
       "    fig.header.textContent = msg['label'];\n",
       "}\n",
       "\n",
       "mpl.figure.prototype.handle_cursor = function(fig, msg) {\n",
       "    var cursor = msg['cursor'];\n",
       "    switch(cursor)\n",
       "    {\n",
       "    case 0:\n",
       "        cursor = 'pointer';\n",
       "        break;\n",
       "    case 1:\n",
       "        cursor = 'default';\n",
       "        break;\n",
       "    case 2:\n",
       "        cursor = 'crosshair';\n",
       "        break;\n",
       "    case 3:\n",
       "        cursor = 'move';\n",
       "        break;\n",
       "    }\n",
       "    fig.rubberband_canvas.style.cursor = cursor;\n",
       "}\n",
       "\n",
       "mpl.figure.prototype.handle_message = function(fig, msg) {\n",
       "    fig.message.textContent = msg['message'];\n",
       "}\n",
       "\n",
       "mpl.figure.prototype.handle_draw = function(fig, msg) {\n",
       "    // Request the server to send over a new figure.\n",
       "    fig.send_draw_message();\n",
       "}\n",
       "\n",
       "mpl.figure.prototype.handle_image_mode = function(fig, msg) {\n",
       "    fig.image_mode = msg['mode'];\n",
       "}\n",
       "\n",
       "mpl.figure.prototype.updated_canvas_event = function() {\n",
       "    // Called whenever the canvas gets updated.\n",
       "    this.send_message(\"ack\", {});\n",
       "}\n",
       "\n",
       "// A function to construct a web socket function for onmessage handling.\n",
       "// Called in the figure constructor.\n",
       "mpl.figure.prototype._make_on_message_function = function(fig) {\n",
       "    return function socket_on_message(evt) {\n",
       "        if (evt.data instanceof Blob) {\n",
       "            /* FIXME: We get \"Resource interpreted as Image but\n",
       "             * transferred with MIME type text/plain:\" errors on\n",
       "             * Chrome.  But how to set the MIME type?  It doesn't seem\n",
       "             * to be part of the websocket stream */\n",
       "            evt.data.type = \"image/png\";\n",
       "\n",
       "            /* Free the memory for the previous frames */\n",
       "            if (fig.imageObj.src) {\n",
       "                (window.URL || window.webkitURL).revokeObjectURL(\n",
       "                    fig.imageObj.src);\n",
       "            }\n",
       "\n",
       "            fig.imageObj.src = (window.URL || window.webkitURL).createObjectURL(\n",
       "                evt.data);\n",
       "            fig.updated_canvas_event();\n",
       "            fig.waiting = false;\n",
       "            return;\n",
       "        }\n",
       "        else if (typeof evt.data === 'string' && evt.data.slice(0, 21) == \"data:image/png;base64\") {\n",
       "            fig.imageObj.src = evt.data;\n",
       "            fig.updated_canvas_event();\n",
       "            fig.waiting = false;\n",
       "            return;\n",
       "        }\n",
       "\n",
       "        var msg = JSON.parse(evt.data);\n",
       "        var msg_type = msg['type'];\n",
       "\n",
       "        // Call the  \"handle_{type}\" callback, which takes\n",
       "        // the figure and JSON message as its only arguments.\n",
       "        try {\n",
       "            var callback = fig[\"handle_\" + msg_type];\n",
       "        } catch (e) {\n",
       "            console.log(\"No handler for the '\" + msg_type + \"' message type: \", msg);\n",
       "            return;\n",
       "        }\n",
       "\n",
       "        if (callback) {\n",
       "            try {\n",
       "                // console.log(\"Handling '\" + msg_type + \"' message: \", msg);\n",
       "                callback(fig, msg);\n",
       "            } catch (e) {\n",
       "                console.log(\"Exception inside the 'handler_\" + msg_type + \"' callback:\", e, e.stack, msg);\n",
       "            }\n",
       "        }\n",
       "    };\n",
       "}\n",
       "\n",
       "// from http://stackoverflow.com/questions/1114465/getting-mouse-location-in-canvas\n",
       "mpl.findpos = function(e) {\n",
       "    //this section is from http://www.quirksmode.org/js/events_properties.html\n",
       "    var targ;\n",
       "    if (!e)\n",
       "        e = window.event;\n",
       "    if (e.target)\n",
       "        targ = e.target;\n",
       "    else if (e.srcElement)\n",
       "        targ = e.srcElement;\n",
       "    if (targ.nodeType == 3) // defeat Safari bug\n",
       "        targ = targ.parentNode;\n",
       "\n",
       "    // jQuery normalizes the pageX and pageY\n",
       "    // pageX,Y are the mouse positions relative to the document\n",
       "    // offset() returns the position of the element relative to the document\n",
       "    var x = e.pageX - $(targ).offset().left;\n",
       "    var y = e.pageY - $(targ).offset().top;\n",
       "\n",
       "    return {\"x\": x, \"y\": y};\n",
       "};\n",
       "\n",
       "/*\n",
       " * return a copy of an object with only non-object keys\n",
       " * we need this to avoid circular references\n",
       " * http://stackoverflow.com/a/24161582/3208463\n",
       " */\n",
       "function simpleKeys (original) {\n",
       "  return Object.keys(original).reduce(function (obj, key) {\n",
       "    if (typeof original[key] !== 'object')\n",
       "        obj[key] = original[key]\n",
       "    return obj;\n",
       "  }, {});\n",
       "}\n",
       "\n",
       "mpl.figure.prototype.mouse_event = function(event, name) {\n",
       "    var canvas_pos = mpl.findpos(event)\n",
       "\n",
       "    if (name === 'button_press')\n",
       "    {\n",
       "        this.canvas.focus();\n",
       "        this.canvas_div.focus();\n",
       "    }\n",
       "\n",
       "    var x = canvas_pos.x;\n",
       "    var y = canvas_pos.y;\n",
       "\n",
       "    this.send_message(name, {x: x, y: y, button: event.button,\n",
       "                             step: event.step,\n",
       "                             guiEvent: simpleKeys(event)});\n",
       "\n",
       "    /* This prevents the web browser from automatically changing to\n",
       "     * the text insertion cursor when the button is pressed.  We want\n",
       "     * to control all of the cursor setting manually through the\n",
       "     * 'cursor' event from matplotlib */\n",
       "    event.preventDefault();\n",
       "    return false;\n",
       "}\n",
       "\n",
       "mpl.figure.prototype._key_event_extra = function(event, name) {\n",
       "    // Handle any extra behaviour associated with a key event\n",
       "}\n",
       "\n",
       "mpl.figure.prototype.key_event = function(event, name) {\n",
       "\n",
       "    // Prevent repeat events\n",
       "    if (name == 'key_press')\n",
       "    {\n",
       "        if (event.which === this._key)\n",
       "            return;\n",
       "        else\n",
       "            this._key = event.which;\n",
       "    }\n",
       "    if (name == 'key_release')\n",
       "        this._key = null;\n",
       "\n",
       "    var value = '';\n",
       "    if (event.ctrlKey && event.which != 17)\n",
       "        value += \"ctrl+\";\n",
       "    if (event.altKey && event.which != 18)\n",
       "        value += \"alt+\";\n",
       "    if (event.shiftKey && event.which != 16)\n",
       "        value += \"shift+\";\n",
       "\n",
       "    value += 'k';\n",
       "    value += event.which.toString();\n",
       "\n",
       "    this._key_event_extra(event, name);\n",
       "\n",
       "    this.send_message(name, {key: value,\n",
       "                             guiEvent: simpleKeys(event)});\n",
       "    return false;\n",
       "}\n",
       "\n",
       "mpl.figure.prototype.toolbar_button_onclick = function(name) {\n",
       "    if (name == 'download') {\n",
       "        this.handle_save(this, null);\n",
       "    } else {\n",
       "        this.send_message(\"toolbar_button\", {name: name});\n",
       "    }\n",
       "};\n",
       "\n",
       "mpl.figure.prototype.toolbar_button_onmouseover = function(tooltip) {\n",
       "    this.message.textContent = tooltip;\n",
       "};\n",
       "mpl.toolbar_items = [[\"Home\", \"Reset original view\", \"fa fa-home icon-home\", \"home\"], [\"Back\", \"Back to  previous view\", \"fa fa-arrow-left icon-arrow-left\", \"back\"], [\"Forward\", \"Forward to next view\", \"fa fa-arrow-right icon-arrow-right\", \"forward\"], [\"\", \"\", \"\", \"\"], [\"Pan\", \"Pan axes with left mouse, zoom with right\", \"fa fa-arrows icon-move\", \"pan\"], [\"Zoom\", \"Zoom to rectangle\", \"fa fa-square-o icon-check-empty\", \"zoom\"], [\"\", \"\", \"\", \"\"], [\"Download\", \"Download plot\", \"fa fa-floppy-o icon-save\", \"download\"]];\n",
       "\n",
       "mpl.extensions = [\"eps\", \"jpeg\", \"pdf\", \"png\", \"ps\", \"raw\", \"svg\", \"tif\"];\n",
       "\n",
       "mpl.default_extension = \"png\";var comm_websocket_adapter = function(comm) {\n",
       "    // Create a \"websocket\"-like object which calls the given IPython comm\n",
       "    // object with the appropriate methods. Currently this is a non binary\n",
       "    // socket, so there is still some room for performance tuning.\n",
       "    var ws = {};\n",
       "\n",
       "    ws.close = function() {\n",
       "        comm.close()\n",
       "    };\n",
       "    ws.send = function(m) {\n",
       "        //console.log('sending', m);\n",
       "        comm.send(m);\n",
       "    };\n",
       "    // Register the callback with on_msg.\n",
       "    comm.on_msg(function(msg) {\n",
       "        //console.log('receiving', msg['content']['data'], msg);\n",
       "        // Pass the mpl event to the overriden (by mpl) onmessage function.\n",
       "        ws.onmessage(msg['content']['data'])\n",
       "    });\n",
       "    return ws;\n",
       "}\n",
       "\n",
       "mpl.mpl_figure_comm = function(comm, msg) {\n",
       "    // This is the function which gets called when the mpl process\n",
       "    // starts-up an IPython Comm through the \"matplotlib\" channel.\n",
       "\n",
       "    var id = msg.content.data.id;\n",
       "    // Get hold of the div created by the display call when the Comm\n",
       "    // socket was opened in Python.\n",
       "    var element = $(\"#\" + id);\n",
       "    var ws_proxy = comm_websocket_adapter(comm)\n",
       "\n",
       "    function ondownload(figure, format) {\n",
       "        window.open(figure.imageObj.src);\n",
       "    }\n",
       "\n",
       "    var fig = new mpl.figure(id, ws_proxy,\n",
       "                           ondownload,\n",
       "                           element.get(0));\n",
       "\n",
       "    // Call onopen now - mpl needs it, as it is assuming we've passed it a real\n",
       "    // web socket which is closed, not our websocket->open comm proxy.\n",
       "    ws_proxy.onopen();\n",
       "\n",
       "    fig.parent_element = element.get(0);\n",
       "    fig.cell_info = mpl.find_output_cell(\"<div id='\" + id + \"'></div>\");\n",
       "    if (!fig.cell_info) {\n",
       "        console.error(\"Failed to find cell for figure\", id, fig);\n",
       "        return;\n",
       "    }\n",
       "\n",
       "    var output_index = fig.cell_info[2]\n",
       "    var cell = fig.cell_info[0];\n",
       "\n",
       "};\n",
       "\n",
       "mpl.figure.prototype.handle_close = function(fig, msg) {\n",
       "    fig.root.unbind('remove')\n",
       "\n",
       "    // Update the output cell to use the data from the current canvas.\n",
       "    fig.push_to_output();\n",
       "    var dataURL = fig.canvas.toDataURL();\n",
       "    // Re-enable the keyboard manager in IPython - without this line, in FF,\n",
       "    // the notebook keyboard shortcuts fail.\n",
       "    IPython.keyboard_manager.enable()\n",
       "    $(fig.parent_element).html('<img src=\"' + dataURL + '\">');\n",
       "    fig.close_ws(fig, msg);\n",
       "}\n",
       "\n",
       "mpl.figure.prototype.close_ws = function(fig, msg){\n",
       "    fig.send_message('closing', msg);\n",
       "    // fig.ws.close()\n",
       "}\n",
       "\n",
       "mpl.figure.prototype.push_to_output = function(remove_interactive) {\n",
       "    // Turn the data on the canvas into data in the output cell.\n",
       "    var dataURL = this.canvas.toDataURL();\n",
       "    this.cell_info[1]['text/html'] = '<img src=\"' + dataURL + '\">';\n",
       "}\n",
       "\n",
       "mpl.figure.prototype.updated_canvas_event = function() {\n",
       "    // Tell IPython that the notebook contents must change.\n",
       "    IPython.notebook.set_dirty(true);\n",
       "    this.send_message(\"ack\", {});\n",
       "    var fig = this;\n",
       "    // Wait a second, then push the new image to the DOM so\n",
       "    // that it is saved nicely (might be nice to debounce this).\n",
       "    setTimeout(function () { fig.push_to_output() }, 1000);\n",
       "}\n",
       "\n",
       "mpl.figure.prototype._init_toolbar = function() {\n",
       "    var fig = this;\n",
       "\n",
       "    var nav_element = $('<div/>')\n",
       "    nav_element.attr('style', 'width: 100%');\n",
       "    this.root.append(nav_element);\n",
       "\n",
       "    // Define a callback function for later on.\n",
       "    function toolbar_event(event) {\n",
       "        return fig.toolbar_button_onclick(event['data']);\n",
       "    }\n",
       "    function toolbar_mouse_event(event) {\n",
       "        return fig.toolbar_button_onmouseover(event['data']);\n",
       "    }\n",
       "\n",
       "    for(var toolbar_ind in mpl.toolbar_items){\n",
       "        var name = mpl.toolbar_items[toolbar_ind][0];\n",
       "        var tooltip = mpl.toolbar_items[toolbar_ind][1];\n",
       "        var image = mpl.toolbar_items[toolbar_ind][2];\n",
       "        var method_name = mpl.toolbar_items[toolbar_ind][3];\n",
       "\n",
       "        if (!name) { continue; };\n",
       "\n",
       "        var button = $('<button class=\"btn btn-default\" href=\"#\" title=\"' + name + '\"><i class=\"fa ' + image + ' fa-lg\"></i></button>');\n",
       "        button.click(method_name, toolbar_event);\n",
       "        button.mouseover(tooltip, toolbar_mouse_event);\n",
       "        nav_element.append(button);\n",
       "    }\n",
       "\n",
       "    // Add the status bar.\n",
       "    var status_bar = $('<span class=\"mpl-message\" style=\"text-align:right; float: right;\"/>');\n",
       "    nav_element.append(status_bar);\n",
       "    this.message = status_bar[0];\n",
       "\n",
       "    // Add the close button to the window.\n",
       "    var buttongrp = $('<div class=\"btn-group inline pull-right\"></div>');\n",
       "    var button = $('<button class=\"btn btn-mini btn-primary\" href=\"#\" title=\"Stop Interaction\"><i class=\"fa fa-power-off icon-remove icon-large\"></i></button>');\n",
       "    button.click(function (evt) { fig.handle_close(fig, {}); } );\n",
       "    button.mouseover('Stop Interaction', toolbar_mouse_event);\n",
       "    buttongrp.append(button);\n",
       "    var titlebar = this.root.find($('.ui-dialog-titlebar'));\n",
       "    titlebar.prepend(buttongrp);\n",
       "}\n",
       "\n",
       "mpl.figure.prototype._root_extra_style = function(el){\n",
       "    var fig = this\n",
       "    el.on(\"remove\", function(){\n",
       "\tfig.close_ws(fig, {});\n",
       "    });\n",
       "}\n",
       "\n",
       "mpl.figure.prototype._canvas_extra_style = function(el){\n",
       "    // this is important to make the div 'focusable\n",
       "    el.attr('tabindex', 0)\n",
       "    // reach out to IPython and tell the keyboard manager to turn it's self\n",
       "    // off when our div gets focus\n",
       "\n",
       "    // location in version 3\n",
       "    if (IPython.notebook.keyboard_manager) {\n",
       "        IPython.notebook.keyboard_manager.register_events(el);\n",
       "    }\n",
       "    else {\n",
       "        // location in version 2\n",
       "        IPython.keyboard_manager.register_events(el);\n",
       "    }\n",
       "\n",
       "}\n",
       "\n",
       "mpl.figure.prototype._key_event_extra = function(event, name) {\n",
       "    var manager = IPython.notebook.keyboard_manager;\n",
       "    if (!manager)\n",
       "        manager = IPython.keyboard_manager;\n",
       "\n",
       "    // Check for shift+enter\n",
       "    if (event.shiftKey && event.which == 13) {\n",
       "        this.canvas_div.blur();\n",
       "        event.shiftKey = false;\n",
       "        // Send a \"J\" for go to next cell\n",
       "        event.which = 74;\n",
       "        event.keyCode = 74;\n",
       "        manager.command_mode();\n",
       "        manager.handle_keydown(event);\n",
       "    }\n",
       "}\n",
       "\n",
       "mpl.figure.prototype.handle_save = function(fig, msg) {\n",
       "    fig.ondownload(fig, null);\n",
       "}\n",
       "\n",
       "\n",
       "mpl.find_output_cell = function(html_output) {\n",
       "    // Return the cell and output element which can be found *uniquely* in the notebook.\n",
       "    // Note - this is a bit hacky, but it is done because the \"notebook_saving.Notebook\"\n",
       "    // IPython event is triggered only after the cells have been serialised, which for\n",
       "    // our purposes (turning an active figure into a static one), is too late.\n",
       "    var cells = IPython.notebook.get_cells();\n",
       "    var ncells = cells.length;\n",
       "    for (var i=0; i<ncells; i++) {\n",
       "        var cell = cells[i];\n",
       "        if (cell.cell_type === 'code'){\n",
       "            for (var j=0; j<cell.output_area.outputs.length; j++) {\n",
       "                var data = cell.output_area.outputs[j];\n",
       "                if (data.data) {\n",
       "                    // IPython >= 3 moved mimebundle to data attribute of output\n",
       "                    data = data.data;\n",
       "                }\n",
       "                if (data['text/html'] == html_output) {\n",
       "                    return [cell, data, j];\n",
       "                }\n",
       "            }\n",
       "        }\n",
       "    }\n",
       "}\n",
       "\n",
       "// Register the function which deals with the matplotlib target/channel.\n",
       "// The kernel may be null if the page has been refreshed.\n",
       "if (IPython.notebook.kernel != null) {\n",
       "    IPython.notebook.kernel.comm_manager.register_target('matplotlib', mpl.mpl_figure_comm);\n",
       "}\n"
      ],
      "text/plain": [
       "<IPython.core.display.Javascript object>"
      ]
     },
     "metadata": {},
     "output_type": "display_data"
    },
    {
     "data": {
      "text/html": [
       "<img src=\"data:image/png;base64,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\">"
      ],
      "text/plain": [
       "<IPython.core.display.HTML object>"
      ]
     },
     "metadata": {},
     "output_type": "display_data"
    },
    {
     "data": {
      "text/plain": [
       "<matplotlib.lines.Line2D at 0x7fd7d8293f28>"
      ]
     },
     "execution_count": 53,
     "metadata": {},
     "output_type": "execute_result"
    }
   ],
   "source": [
    "escImgParam(fn=lambda x,c: x*x + c, xmin=-2, xmax=.75, ymin=-1.25,\n",
    "            ymax=1.25, colorMap=\"spectral\")\n",
    "plt.axhline(500, color='white', linewidth=1)\n",
    "plt.axvline(500, color='white')"
   ]
  },
  {
   "cell_type": "code",
   "execution_count": 41,
   "metadata": {
    "collapsed": false
   },
   "outputs": [
    {
     "name": "stdout",
     "output_type": "stream",
     "text": [
      "['', '-1.250', '-0.750', '-0.250', '0.250', '0.750', '1.250']\n"
     ]
    }
   ],
   "source": [
    "newYTicks = [\"%.3f\" % x for x in np.linspace(-1.25, 1.25, len(ax.get_yticks()) - 1)]\n",
    "print([''] + newYTicks)"
   ]
  },
  {
   "cell_type": "code",
   "execution_count": 40,
   "metadata": {
    "collapsed": false
   },
   "outputs": [
    {
     "data": {
      "text/plain": [
       "[<matplotlib.text.Text at 0x7fd7d84eb4e0>,\n",
       " <matplotlib.text.Text at 0x7fd7d84f0780>,\n",
       " <matplotlib.text.Text at 0x7fd7d84aa438>,\n",
       " <matplotlib.text.Text at 0x7fd7d84b8400>,\n",
       " <matplotlib.text.Text at 0x7fd7d84af828>,\n",
       " <matplotlib.text.Text at 0x7fd7d84b8ba8>,\n",
       " <matplotlib.text.Text at 0x7fd7d84bc5f8>]"
      ]
     },
     "execution_count": 40,
     "metadata": {},
     "output_type": "execute_result"
    }
   ],
   "source": [
    "ax = plt.gca()\n",
    "ax.set_yticklabels(['', '-1.250', '-0.750', '-0.250', '0.250', '0.750', '1.250'])\n"
   ]
  },
  {
   "cell_type": "markdown",
   "metadata": {},
   "source": [
    "<h1><center>How to Make the Mandelbrot Set</center></h1>\n",
    "- The Mandelbrot Set is a Parameter Space Escape Image for the map <center>$f_c(z) = z^2 + c$</center>\n",
    "such that $f : \\mathbb{C} \\rightarrow \\mathbb{C}$\n",
    "- \"Parameter Space\" means that each pixel is representing a value for the parameter $c \\in \\mathbb{C}$\n",
    "- So what we need to do is to iterate the map $f_c(0)$ some number of times for each pixel (value for $c$) in our plane and determine how \"fast\" that point escapes\n",
    "- We then color that pixel with the relative amount of time it took for that point to escape\n",
    "    - We iterate on the value 0 for technical reasons (it's special)\n",
    "    - In this case, \"escape\" means $|f^n_c(0)| > 2$"
   ]
  },
  {
   "cell_type": "markdown",
   "metadata": {},
   "source": [
    "- Here is a "
   ]
  },
  {
   "cell_type": "code",
   "execution_count": null,
   "metadata": {
    "collapsed": false,
    "slideshow": {
     "slide_type": "slide"
    }
   },
   "outputs": [],
   "source": [
    "%matplotlib notebook\n",
    "%run escapeImages.py\n",
    "favColorMap = \"spectral\"\n",
    "\n",
    "<h1><center></center></h1>"
   ]
  },
  {
   "cell_type": "markdown",
   "metadata": {
    "slideshow": {
     "slide_type": "slide"
    }
   },
   "source": [
    "# Julia Set\n",
    "Phase Space escape image for $x \\mapsto x^2 - 1$"
   ]
  },
  {
   "cell_type": "code",
   "execution_count": null,
   "metadata": {
    "collapsed": false,
    "slideshow": {
     "slide_type": "slide"
    }
   },
   "outputs": [],
   "source": [
    "escImgPhase(fn=lambda x: x*x - 1, n=1000, m=1000, colorMap=favColorMap)"
   ]
  },
  {
   "cell_type": "markdown",
   "metadata": {
    "slideshow": {
     "slide_type": "slide"
    }
   },
   "source": [
    "# Mandelbrot Set\n",
    "Parameter space image for the map $x \\mapsto x^2 + c$"
   ]
  },
  {
   "cell_type": "code",
   "execution_count": null,
   "metadata": {
    "collapsed": false,
    "slideshow": {
     "slide_type": "slide"
    }
   },
   "outputs": [],
   "source": [
    "escImgParam(n=1000, m=1000, xmin=-2, xmax=.75, ymin=-1.25,\n",
    "            ymax=1.25, colorMap=favColorMap)"
   ]
  },
  {
   "cell_type": "markdown",
   "metadata": {
    "collapsed": false,
    "slideshow": {
     "slide_type": "slide"
    }
   },
   "source": [
    "# Burning Ship Fractal\n",
    "Parameter space image for the map $\\displaystyle z \\mapsto \\left(|\\operatorname{Re}(z)|+i\\left|\\operatorname{Im}(z)\\right|\\right)^2 + c$"
   ]
  },
  {
   "cell_type": "code",
   "execution_count": null,
   "metadata": {
    "collapsed": true,
    "slideshow": {
     "slide_type": "slide"
    }
   },
   "outputs": [],
   "source": [
    "def bShip(z,c): return (abs(np.real(z)) + abs(np.imag(z))*complex(0,1))**2 + c"
   ]
  },
  {
   "cell_type": "code",
   "execution_count": null,
   "metadata": {
    "collapsed": false,
    "slideshow": {
     "slide_type": "slide"
    }
   },
   "outputs": [],
   "source": [
    "escImgParam(\"burning_ship2\", fn=bShip, n=1000, m=1000, xmin=-2, xmax=1.25, ymin=-1.75, ymax=1.25, colorMap=favColorMap)"
   ]
  },
  {
   "cell_type": "code",
   "execution_count": null,
   "metadata": {
    "collapsed": true
   },
   "outputs": [],
   "source": []
  }
 ],
 "metadata": {
  "celltoolbar": "Slideshow",
  "kernelspec": {
   "display_name": "Python 3",
   "language": "python",
   "name": "python3"
  },
  "language_info": {
   "codemirror_mode": {
    "name": "ipython",
    "version": 3
   },
   "file_extension": ".py",
   "mimetype": "text/x-python",
   "name": "python",
   "nbconvert_exporter": "python",
   "pygments_lexer": "ipython3",
   "version": "3.4.3+"
  }
 },
 "nbformat": 4,
 "nbformat_minor": 0
}
